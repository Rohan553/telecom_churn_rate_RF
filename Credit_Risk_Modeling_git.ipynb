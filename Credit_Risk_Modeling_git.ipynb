{
 "cells": [
  {
   "cell_type": "code",
   "execution_count": 1,
   "metadata": {},
   "outputs": [],
   "source": [
    "import pandas as pd\n",
    "import numpy as np\n",
    "import matplotlib.pyplot as plt\n",
    "import seaborn as sns\n",
    "%matplotlib inline"
   ]
  },
  {
   "cell_type": "code",
   "execution_count": 2,
   "metadata": {},
   "outputs": [],
   "source": [
    "data=pd.read_csv(\"credit_risk.csv\")"
   ]
  },
  {
   "cell_type": "code",
   "execution_count": 3,
   "metadata": {},
   "outputs": [],
   "source": [
    "df=data.dropna()"
   ]
  },
  {
   "cell_type": "code",
   "execution_count": 4,
   "metadata": {},
   "outputs": [
    {
     "data": {
      "text/html": [
       "<div>\n",
       "<style scoped>\n",
       "    .dataframe tbody tr th:only-of-type {\n",
       "        vertical-align: middle;\n",
       "    }\n",
       "\n",
       "    .dataframe tbody tr th {\n",
       "        vertical-align: top;\n",
       "    }\n",
       "\n",
       "    .dataframe thead th {\n",
       "        text-align: right;\n",
       "    }\n",
       "</style>\n",
       "<table border=\"1\" class=\"dataframe\">\n",
       "  <thead>\n",
       "    <tr style=\"text-align: right;\">\n",
       "      <th></th>\n",
       "      <th>Loan_ID</th>\n",
       "      <th>Gender</th>\n",
       "      <th>Married</th>\n",
       "      <th>Dependents</th>\n",
       "      <th>Education</th>\n",
       "      <th>Self_Employed</th>\n",
       "      <th>ApplicantIncome</th>\n",
       "      <th>CoapplicantIncome</th>\n",
       "      <th>LoanAmount</th>\n",
       "      <th>Loan_Amount_Term</th>\n",
       "      <th>Credit_History</th>\n",
       "      <th>Property_Area</th>\n",
       "      <th>Loan_Status</th>\n",
       "    </tr>\n",
       "  </thead>\n",
       "  <tbody>\n",
       "    <tr>\n",
       "      <td>1</td>\n",
       "      <td>LP001003</td>\n",
       "      <td>Male</td>\n",
       "      <td>Yes</td>\n",
       "      <td>1</td>\n",
       "      <td>Graduate</td>\n",
       "      <td>No</td>\n",
       "      <td>4583</td>\n",
       "      <td>1508.0</td>\n",
       "      <td>128.0</td>\n",
       "      <td>360.0</td>\n",
       "      <td>1.0</td>\n",
       "      <td>Rural</td>\n",
       "      <td>N</td>\n",
       "    </tr>\n",
       "    <tr>\n",
       "      <td>2</td>\n",
       "      <td>LP001005</td>\n",
       "      <td>Male</td>\n",
       "      <td>Yes</td>\n",
       "      <td>0</td>\n",
       "      <td>Graduate</td>\n",
       "      <td>Yes</td>\n",
       "      <td>3000</td>\n",
       "      <td>0.0</td>\n",
       "      <td>66.0</td>\n",
       "      <td>360.0</td>\n",
       "      <td>1.0</td>\n",
       "      <td>Urban</td>\n",
       "      <td>Y</td>\n",
       "    </tr>\n",
       "    <tr>\n",
       "      <td>3</td>\n",
       "      <td>LP001006</td>\n",
       "      <td>Male</td>\n",
       "      <td>Yes</td>\n",
       "      <td>0</td>\n",
       "      <td>Not Graduate</td>\n",
       "      <td>No</td>\n",
       "      <td>2583</td>\n",
       "      <td>2358.0</td>\n",
       "      <td>120.0</td>\n",
       "      <td>360.0</td>\n",
       "      <td>1.0</td>\n",
       "      <td>Urban</td>\n",
       "      <td>Y</td>\n",
       "    </tr>\n",
       "    <tr>\n",
       "      <td>4</td>\n",
       "      <td>LP001008</td>\n",
       "      <td>Male</td>\n",
       "      <td>No</td>\n",
       "      <td>0</td>\n",
       "      <td>Graduate</td>\n",
       "      <td>No</td>\n",
       "      <td>6000</td>\n",
       "      <td>0.0</td>\n",
       "      <td>141.0</td>\n",
       "      <td>360.0</td>\n",
       "      <td>1.0</td>\n",
       "      <td>Urban</td>\n",
       "      <td>Y</td>\n",
       "    </tr>\n",
       "    <tr>\n",
       "      <td>5</td>\n",
       "      <td>LP001011</td>\n",
       "      <td>Male</td>\n",
       "      <td>Yes</td>\n",
       "      <td>2</td>\n",
       "      <td>Graduate</td>\n",
       "      <td>Yes</td>\n",
       "      <td>5417</td>\n",
       "      <td>4196.0</td>\n",
       "      <td>267.0</td>\n",
       "      <td>360.0</td>\n",
       "      <td>1.0</td>\n",
       "      <td>Urban</td>\n",
       "      <td>Y</td>\n",
       "    </tr>\n",
       "  </tbody>\n",
       "</table>\n",
       "</div>"
      ],
      "text/plain": [
       "    Loan_ID Gender Married Dependents     Education Self_Employed  \\\n",
       "1  LP001003   Male     Yes          1      Graduate            No   \n",
       "2  LP001005   Male     Yes          0      Graduate           Yes   \n",
       "3  LP001006   Male     Yes          0  Not Graduate            No   \n",
       "4  LP001008   Male      No          0      Graduate            No   \n",
       "5  LP001011   Male     Yes          2      Graduate           Yes   \n",
       "\n",
       "   ApplicantIncome  CoapplicantIncome  LoanAmount  Loan_Amount_Term  \\\n",
       "1             4583             1508.0       128.0             360.0   \n",
       "2             3000                0.0        66.0             360.0   \n",
       "3             2583             2358.0       120.0             360.0   \n",
       "4             6000                0.0       141.0             360.0   \n",
       "5             5417             4196.0       267.0             360.0   \n",
       "\n",
       "   Credit_History Property_Area Loan_Status  \n",
       "1             1.0         Rural           N  \n",
       "2             1.0         Urban           Y  \n",
       "3             1.0         Urban           Y  \n",
       "4             1.0         Urban           Y  \n",
       "5             1.0         Urban           Y  "
      ]
     },
     "execution_count": 4,
     "metadata": {},
     "output_type": "execute_result"
    }
   ],
   "source": [
    "df.head(5)"
   ]
  },
  {
   "cell_type": "code",
   "execution_count": 5,
   "metadata": {},
   "outputs": [
    {
     "data": {
      "text/plain": [
       "614"
      ]
     },
     "execution_count": 5,
     "metadata": {},
     "output_type": "execute_result"
    }
   ],
   "source": [
    "len(data)"
   ]
  },
  {
   "cell_type": "code",
   "execution_count": 6,
   "metadata": {},
   "outputs": [
    {
     "data": {
      "text/plain": [
       "RangeIndex(start=0, stop=614, step=1)"
      ]
     },
     "execution_count": 6,
     "metadata": {},
     "output_type": "execute_result"
    }
   ],
   "source": [
    "data.index"
   ]
  },
  {
   "cell_type": "code",
   "execution_count": 7,
   "metadata": {},
   "outputs": [
    {
     "name": "stdout",
     "output_type": "stream",
     "text": [
      "614 before delete\n",
      "480 after delete\n"
     ]
    }
   ],
   "source": [
    "print(len(data),\"before delete\")\n",
    "print(len(df),'after delete')"
   ]
  },
  {
   "cell_type": "code",
   "execution_count": 8,
   "metadata": {},
   "outputs": [
    {
     "data": {
      "text/plain": [
       "134"
      ]
     },
     "execution_count": 8,
     "metadata": {},
     "output_type": "execute_result"
    }
   ],
   "source": [
    "len(data)-len(df)"
   ]
  },
  {
   "cell_type": "markdown",
   "metadata": {},
   "source": [
    "# Exploratory Data Analysis"
   ]
  },
  {
   "cell_type": "code",
   "execution_count": 9,
   "metadata": {},
   "outputs": [
    {
     "data": {
      "text/plain": [
       "Loan_ID               object\n",
       "Gender                object\n",
       "Married               object\n",
       "Dependents            object\n",
       "Education             object\n",
       "Self_Employed         object\n",
       "ApplicantIncome        int64\n",
       "CoapplicantIncome    float64\n",
       "LoanAmount           float64\n",
       "Loan_Amount_Term     float64\n",
       "Credit_History       float64\n",
       "Property_Area         object\n",
       "Loan_Status           object\n",
       "dtype: object"
      ]
     },
     "execution_count": 9,
     "metadata": {},
     "output_type": "execute_result"
    }
   ],
   "source": [
    "df.dtypes"
   ]
  },
  {
   "cell_type": "code",
   "execution_count": 10,
   "metadata": {},
   "outputs": [
    {
     "data": {
      "text/plain": [
       "Education     Loan_Status\n",
       "Graduate      N              0.292428\n",
       "              Y              0.707572\n",
       "Not Graduate  N              0.371134\n",
       "              Y              0.628866\n",
       "Name: Loan_Status, dtype: float64"
      ]
     },
     "execution_count": 10,
     "metadata": {},
     "output_type": "execute_result"
    }
   ],
   "source": [
    "df.groupby([\"Education\",\"Loan_Status\"])[\"Loan_Status\"].count()\\\n",
    "    /df.groupby([\"Education\"])[\"Loan_Status\"].count()"
   ]
  },
  {
   "cell_type": "code",
   "execution_count": 11,
   "metadata": {},
   "outputs": [
    {
     "data": {
      "text/plain": [
       "<matplotlib.axes._subplots.AxesSubplot at 0x2b2d8ed9388>"
      ]
     },
     "execution_count": 11,
     "metadata": {},
     "output_type": "execute_result"
    },
    {
     "data": {
      "image/png": "[encoded data removed]",
      "text/plain": [
       "<Figure size 432x288 with 1 Axes>"
      ]
     },
     "metadata": {
      "needs_background": "light"
     },
     "output_type": "display_data"
    }
   ],
   "source": [
    "sns.barplot(x=\"Education\",y='ApplicantIncome',data=df)"
   ]
  },
  {
   "cell_type": "code",
   "execution_count": 12,
   "metadata": {},
   "outputs": [
    {
     "data": {
      "text/plain": [
       "<matplotlib.axes._subplots.AxesSubplot at 0x2b2d91f0a08>"
      ]
     },
     "execution_count": 12,
     "metadata": {},
     "output_type": "execute_result"
    },
    {
     "data": {
      "image/png": "[encoded data removed]",
      "text/plain": [
       "<Figure size 432x288 with 1 Axes>"
      ]
     },
     "metadata": {
      "needs_background": "light"
     },
     "output_type": "display_data"
    }
   ],
   "source": [
    "sns.barplot(x=\"Loan_Status\",y='ApplicantIncome',hue='Education',data=df)"
   ]
  },
  {
   "cell_type": "code",
   "execution_count": 13,
   "metadata": {},
   "outputs": [
    {
     "data": {
      "text/plain": [
       "<matplotlib.axes._subplots.AxesSubplot at 0x2b2d9292508>"
      ]
     },
     "execution_count": 13,
     "metadata": {},
     "output_type": "execute_result"
    },
    {
     "data": {
      "image/png": "[encoded data removed]",
      "text/plain": [
       "<Figure size 432x288 with 1 Axes>"
      ]
     },
     "metadata": {
      "needs_background": "light"
     },
     "output_type": "display_data"
    }
   ],
   "source": [
    "sns.boxplot(x=\"Loan_Status\" , y=\"ApplicantIncome\" ,hue='Education', data = df)"
   ]
  },
  {
   "cell_type": "code",
   "execution_count": null,
   "metadata": {},
   "outputs": [],
   "source": []
  },
  {
   "cell_type": "code",
   "execution_count": 14,
   "metadata": {},
   "outputs": [
    {
     "data": {
      "text/plain": [
       "<matplotlib.axes._subplots.AxesSubplot at 0x2b2d9357a48>"
      ]
     },
     "execution_count": 14,
     "metadata": {},
     "output_type": "execute_result"
    },
    {
     "data": {
      "image/png": "[encoded data removed]",
      "text/plain": [
       "<Figure size 432x288 with 1 Axes>"
      ]
     },
     "metadata": {
      "needs_background": "light"
     },
     "output_type": "display_data"
    }
   ],
   "source": [
    "sns.barplot(x=\"Loan_Status\",y='ApplicantIncome',hue='Education',data=df)"
   ]
  },
  {
   "cell_type": "code",
   "execution_count": 15,
   "metadata": {},
   "outputs": [
    {
     "data": {
      "text/plain": [
       "<matplotlib.axes._subplots.AxesSubplot at 0x2b2d93bcc88>"
      ]
     },
     "execution_count": 15,
     "metadata": {},
     "output_type": "execute_result"
    },
    {
     "data": {
      "image/png": "[encoded data removed]",
      "text/plain": [
       "<Figure size 432x288 with 1 Axes>"
      ]
     },
     "metadata": {
      "needs_background": "light"
     },
     "output_type": "display_data"
    }
   ],
   "source": [
    "sns.barplot(x=\"Loan_Status\",y='ApplicantIncome',data=df)"
   ]
  },
  {
   "cell_type": "code",
   "execution_count": 16,
   "metadata": {},
   "outputs": [
    {
     "data": {
      "text/plain": [
       "Index(['Loan_ID', 'Gender', 'Married', 'Dependents', 'Education',\n",
       "       'Self_Employed', 'ApplicantIncome', 'CoapplicantIncome', 'LoanAmount',\n",
       "       'Loan_Amount_Term', 'Credit_History', 'Property_Area', 'Loan_Status'],\n",
       "      dtype='object')"
      ]
     },
     "execution_count": 16,
     "metadata": {},
     "output_type": "execute_result"
    }
   ],
   "source": [
    "df.columns"
   ]
  },
  {
   "cell_type": "markdown",
   "metadata": {},
   "source": [
    "# Data Cleaning"
   ]
  },
  {
   "cell_type": "code",
   "execution_count": 17,
   "metadata": {},
   "outputs": [],
   "source": [
    "def data_cleaning(d):\n",
    "    d=d.copy()\n",
    "    y=d['Loan_Status'].map(lambda x: 1 if x==\"Y\" else 0)\n",
    "    d=d[[ 'Gender', 'Married', 'Dependents', 'Education',\n",
    "       'Self_Employed', 'ApplicantIncome', 'CoapplicantIncome', 'LoanAmount',\n",
    "       'Loan_Amount_Term', 'Credit_History', 'Property_Area']]\n",
    "    d.Gender=d.Gender.map(lambda x: 1 if x==\"Male\" else 0)\n",
    "    d.Married=d.Married.map(lambda x:1 if x==\"Yes\" else 0)\n",
    "    d.Dependents=d.Dependents.map(lambda x: 3 if str(x)==\"3+\" else int(x))\n",
    "    d.Education=d.Education.map(lambda x: 1 if x==\"Graduate\" else 0)\n",
    "    d.Self_Employed=d.Self_Employed.map(lambda x: 1 if x==\"Yes\" else 0)\n",
    "    d=d.join(pd.get_dummies(d.Property_Area)).drop(['Property_Area'],axis=1)\n",
    "    return d,y\n",
    "    "
   ]
  },
  {
   "cell_type": "code",
   "execution_count": 18,
   "metadata": {},
   "outputs": [],
   "source": [
    "X,y=data_cleaning(df)\n"
   ]
  },
  {
   "cell_type": "code",
   "execution_count": 19,
   "metadata": {},
   "outputs": [
    {
     "name": "stdout",
     "output_type": "stream",
     "text": [
      "accuracy 0.8125\n"
     ]
    },
    {
     "name": "stderr",
     "output_type": "stream",
     "text": [
      "C:\\Users\\rohan\\AppData\\Local\\Continuum\\anaconda3\\lib\\site-packages\\sklearn\\linear_model\\logistic.py:432: FutureWarning: Default solver will be changed to 'lbfgs' in 0.22. Specify a solver to silence this warning.\n",
      "  FutureWarning)\n"
     ]
    }
   ],
   "source": [
    "from sklearn.linear_model import LogisticRegression\n",
    "lr=LogisticRegression()\n",
    "lr.fit(X,y)\n",
    "print(\"accuracy\",lr.score(X,y))"
   ]
  },
  {
   "cell_type": "code",
   "execution_count": 20,
   "metadata": {},
   "outputs": [
    {
     "name": "stdout",
     "output_type": "stream",
     "text": [
      "Gender * 0.18953193258605866 +\n",
      "Married * 0.3979368514791427 +\n",
      "Dependents * 0.053233820321660304 +\n",
      "Education * 0.31208639815838807 +\n",
      "Self_Employed * -0.1258894940455408 +\n",
      "ApplicantIncome * -1.586354494522131e-06 +\n",
      "CoapplicantIncome * -4.730911709951797e-05 +\n",
      "LoanAmount * -0.002890173833730842 +\n",
      "Loan_Amount_Term * -0.004263074920122958 +\n",
      "Credit_History * 2.7640230263051118 +\n",
      "Rural * -0.27275271442441756 +\n",
      "Semiurban * 0.4070272158175193 +\n",
      "Urban * -0.2685866030343092 +\n",
      "-0.13431210164120716\n"
     ]
    }
   ],
   "source": [
    "for col,m in zip(X.columns,lr.coef_[0]):\n",
    "    print(col,\"*\",m,\"+\")\n",
    "print(lr.intercept_[0])"
   ]
  },
  {
   "cell_type": "markdown",
   "metadata": {},
   "source": [
    "Z=Gender * 0.1895319923476763 +\n",
    "Married * 0.3979369153057798 +\n",
    "Dependents * 0.0532337759221262 +\n",
    "Education * 0.31208643672594927 +\n",
    "Self_Employed * -0.12588948456551205 +\n",
    "ApplicantIncome * -1.5863537024274261e-06 +\n",
    "CoapplicantIncome * -4.730911938653908e-05 +\n",
    "LoanAmount * -0.0028901740283690685 +\n",
    "Loan_Amount_Term * -0.004263075254672131 +\n",
    "Credit_History * 2.7640229863153793 +\n",
    "Rural * -0.2727527559366654 +\n",
    "Semiurban * 0.4070273166484802 +\n",
    "Urban * -0.2685865887090895 +\n",
    "-0.134312027997271\n",
    "\n",
    "p=1/(1+e**-Z)"
   ]
  },
  {
   "cell_type": "code",
   "execution_count": 21,
   "metadata": {},
   "outputs": [
    {
     "data": {
      "text/plain": [
       "array([1, 1, 1, 1, 1, 1, 0, 1, 1, 1, 1, 1, 1, 1, 0, 1, 0, 1, 0, 1, 1, 1,\n",
       "       1, 1, 1, 1, 1, 1, 1, 1, 1, 1, 1, 1, 1, 0, 1, 1, 1, 1, 1, 0, 1, 1,\n",
       "       1, 1, 1, 1, 1, 0, 0, 1, 0, 1, 1, 0, 1, 1, 1, 1, 1, 1, 1, 0, 1, 1,\n",
       "       1, 1, 1, 1, 1, 1, 1, 1, 1, 1, 1, 1, 1, 1, 1, 1, 1, 1, 0, 1, 1, 1,\n",
       "       1, 1, 1, 1, 0, 1, 1, 0, 1, 1, 1, 1, 1, 1, 1, 0, 1, 1, 1, 1, 1, 1,\n",
       "       1, 1, 1, 1, 1, 0, 1, 1, 1, 1, 0, 1, 1, 1, 1, 0, 1, 1, 1, 1, 0, 1,\n",
       "       1, 1, 1, 1, 1, 0, 1, 0, 0, 1, 1, 1, 1, 0, 1, 1, 1, 1, 1, 1, 1, 1,\n",
       "       1, 1, 0, 1, 1, 1, 1, 1, 1, 1, 1, 0, 1, 1, 1, 1, 1, 1, 0, 1, 1, 1,\n",
       "       1, 1, 1, 1, 1, 1, 1, 1, 1, 1, 1, 1, 1, 1, 1, 1, 1, 1, 1, 0, 1, 1,\n",
       "       1, 0, 1, 0, 1, 1, 1, 1, 1, 1, 1, 1, 0, 1, 1, 1, 1, 1, 1, 1, 1, 1,\n",
       "       1, 0, 1, 1, 1, 1, 1, 1, 1, 1, 1, 0, 1, 1, 1, 1, 1, 1, 0, 1, 1, 1,\n",
       "       1, 0, 0, 1, 1, 1, 1, 1, 1, 1, 1, 1, 0, 0, 1, 1, 1, 1, 1, 1, 1, 1,\n",
       "       1, 1, 1, 1, 1, 1, 1, 1, 1, 0, 1, 1, 1, 0, 1, 1, 1, 1, 1, 1, 1, 1,\n",
       "       0, 1, 1, 1, 0, 1, 1, 1, 1, 1, 1, 1, 1, 1, 1, 1, 1, 1, 1, 1, 0, 1,\n",
       "       1, 0, 0, 1, 1, 1, 1, 1, 1, 1, 0, 0, 1, 0, 1, 0, 1, 1, 1, 1, 1, 1,\n",
       "       1, 1, 1, 1, 1, 1, 1, 1, 0, 1, 1, 1, 0, 1, 1, 1, 1, 1, 1, 1, 0, 0,\n",
       "       0, 0, 1, 1, 1, 1, 1, 1, 1, 1, 0, 1, 0, 1, 1, 0, 1, 1, 1, 1, 1, 1,\n",
       "       1, 1, 1, 1, 1, 0, 1, 1, 1, 1, 1, 0, 1, 1, 1, 0, 1, 1, 1, 1, 1, 1,\n",
       "       1, 1, 1, 1, 1, 1, 1, 1, 1, 1, 1, 1, 1, 0, 1, 1, 0, 1, 1, 1, 0, 1,\n",
       "       1, 1, 1, 1, 1, 0, 1, 1, 1, 1, 0, 1, 1, 0, 0, 1, 1, 1, 1, 1, 1, 1,\n",
       "       1, 0, 1, 0, 1, 0, 1, 1, 1, 1, 1, 1, 1, 1, 0, 1, 0, 1, 1, 1, 0, 1,\n",
       "       1, 1, 1, 1, 1, 1, 1, 1, 1, 1, 1, 1, 1, 1, 1, 1, 1, 0], dtype=int64)"
      ]
     },
     "execution_count": 21,
     "metadata": {},
     "output_type": "execute_result"
    }
   ],
   "source": [
    "lr.predict(X)"
   ]
  },
  {
   "cell_type": "code",
   "execution_count": 22,
   "metadata": {},
   "outputs": [],
   "source": [
    " y = lr.predict_proba(X)[: , 1]"
   ]
  },
  {
   "cell_type": "code",
   "execution_count": 23,
   "metadata": {},
   "outputs": [
    {
     "data": {
      "text/plain": [
       "array([0.79025871, 0.80290847, 0.72139922, 0.71320537, 0.67431615,\n",
       "       0.74343476, 0.31374669, 0.78045885, 0.7123639 , 0.83088821,\n",
       "       0.70392163, 0.7020528 , 0.94008294, 0.72290382, 0.13578597,\n",
       "       0.73449985, 0.15937759, 0.64410845, 0.24893218, 0.84664268,\n",
       "       0.87412758, 0.7588764 , 0.71351263, 0.75196853, 0.71857666,\n",
       "       0.87949854, 0.59795672, 0.84826123, 0.61029115, 0.78394176,\n",
       "       0.74859085, 0.75619971, 0.86961252, 0.83795324, 0.78592809,\n",
       "       0.14914249, 0.78312291, 0.82202328, 0.81189966, 0.81513197,\n",
       "       0.80811905, 0.10479273, 0.89735743, 0.88548997, 0.7724528 ,\n",
       "       0.75762672, 0.72383932, 0.76774119, 0.83128218, 0.20472414,\n",
       "       0.21555263, 0.80681602, 0.18898893, 0.70274815, 0.91325844,\n",
       "       0.20590464, 0.74625241, 0.84528017, 0.88285802, 0.8584719 ,\n",
       "       0.61867504, 0.64306634, 0.76689184, 0.34041566, 0.81565871,\n",
       "       0.74442092, 0.89472498, 0.81564157, 0.88046508, 0.66985083,\n",
       "       0.84417609, 0.86773567, 0.92090115, 0.76762608, 0.83814522,\n",
       "       0.93318676, 0.84595931, 0.90085619, 0.92538303, 0.8644393 ,\n",
       "       0.85095896, 0.79890941, 0.80793054, 0.75227256, 0.15030622,\n",
       "       0.8064334 , 0.71637259, 0.87916831, 0.83942243, 0.75135593,\n",
       "       0.59228945, 0.8429497 , 0.14503503, 0.90629889, 0.67850818,\n",
       "       0.26803837, 0.73491584, 0.85778648, 0.96162038, 0.84567659,\n",
       "       0.79415355, 0.78282907, 0.78268342, 0.18488588, 0.74441441,\n",
       "       0.7662128 , 0.6971775 , 0.89362427, 0.87528063, 0.88500253,\n",
       "       0.84646134, 0.80486977, 0.8351597 , 0.59613055, 0.88009587,\n",
       "       0.1429316 , 0.72613751, 0.64755125, 0.76602124, 0.7646537 ,\n",
       "       0.22566751, 0.77269878, 0.80078502, 0.852464  , 0.71475476,\n",
       "       0.32643145, 0.78525546, 0.90566126, 0.76875681, 0.76627996,\n",
       "       0.18883894, 0.87184022, 0.89061941, 0.83004626, 0.84163644,\n",
       "       0.78382265, 0.81100121, 0.1018611 , 0.89221909, 0.06743423,\n",
       "       0.13491396, 0.95029467, 0.83884823, 0.8692297 , 0.83781459,\n",
       "       0.258593  , 0.87336114, 0.70376793, 0.81915377, 0.71948084,\n",
       "       0.85543441, 0.72519928, 0.86251454, 0.64400247, 0.72007061,\n",
       "       0.85323731, 0.24204793, 0.73500347, 0.86192512, 0.75918521,\n",
       "       0.71138984, 0.67409793, 0.76016473, 0.83633057, 0.76490408,\n",
       "       0.3458673 , 0.72057633, 0.74245397, 0.76531878, 0.8707461 ,\n",
       "       0.77664806, 0.87359077, 0.22882034, 0.88945678, 0.81010794,\n",
       "       0.88305971, 0.77299863, 0.85948436, 0.6478935 , 0.88626225,\n",
       "       0.72941367, 0.87664416, 0.77124883, 0.70220599, 0.89771639,\n",
       "       0.77481057, 0.84967488, 0.86813498, 0.78898685, 0.82048562,\n",
       "       0.80346466, 0.8165803 , 0.86152771, 0.81697672, 0.79812455,\n",
       "       0.19121626, 0.69861072, 0.61744066, 0.85365564, 0.10502772,\n",
       "       0.6346352 , 0.10966189, 0.83280926, 0.67272856, 0.81885252,\n",
       "       0.94240984, 0.68483789, 0.81751819, 0.6721406 , 0.88094836,\n",
       "       0.19258078, 0.70125   , 0.74013369, 0.78838657, 0.70419618,\n",
       "       0.86514953, 0.90393666, 0.88400794, 0.83781994, 0.80664165,\n",
       "       0.75368007, 0.08328117, 0.88430146, 0.91085119, 0.71110247,\n",
       "       0.71447117, 0.82814413, 0.78151064, 0.8138473 , 0.68315823,\n",
       "       0.76868403, 0.34751029, 0.79679027, 0.85106361, 0.86598075,\n",
       "       0.76711626, 0.51454793, 0.78768757, 0.14671728, 0.67806706,\n",
       "       0.80437618, 0.68882398, 0.65912095, 0.11732166, 0.47614049,\n",
       "       0.82731488, 0.7777033 , 0.72482259, 0.86184333, 0.89616641,\n",
       "       0.76590126, 0.8768454 , 0.89908299, 0.72921835, 0.07936061,\n",
       "       0.13899335, 0.83651015, 0.74945226, 0.71928065, 0.72138445,\n",
       "       0.84758144, 0.72554308, 0.83234183, 0.72911612, 0.73058985,\n",
       "       0.72012975, 0.88394135, 0.8604351 , 0.74053191, 0.7071325 ,\n",
       "       0.84918432, 0.55544068, 0.81819519, 0.15844668, 0.85919222,\n",
       "       0.76644553, 0.82912202, 0.0967124 , 0.86119231, 0.83558728,\n",
       "       0.83815428, 0.77422832, 0.68560327, 0.64965641, 0.77041534,\n",
       "       0.87424291, 0.4486761 , 0.81821034, 0.8861346 , 0.61601049,\n",
       "       0.26210237, 0.89043551, 0.77825883, 0.6471182 , 0.80971595,\n",
       "       0.71880088, 0.66331864, 0.69441346, 0.82290865, 0.77393127,\n",
       "       0.77115806, 0.79442845, 0.71795632, 0.74490741, 0.92802184,\n",
       "       0.80763258, 0.13755278, 0.79860055, 0.64833928, 0.20831218,\n",
       "       0.35184102, 0.74561034, 0.68044408, 0.79343196, 0.60729366,\n",
       "       0.81374562, 0.72402919, 0.65203337, 0.37615714, 0.11390368,\n",
       "       0.77626824, 0.11983102, 0.72949213, 0.17725534, 0.72319031,\n",
       "       0.67374782, 0.51676337, 0.77993588, 0.87331095, 0.78813424,\n",
       "       0.79457781, 0.89095417, 0.762138  , 0.65341271, 0.89228011,\n",
       "       0.81229112, 0.83279713, 0.78486654, 0.14755182, 0.86689058,\n",
       "       0.73751054, 0.85427306, 0.10727693, 0.6646587 , 0.77167749,\n",
       "       0.75069525, 0.78947517, 0.82602899, 0.77042027, 0.76689999,\n",
       "       0.18916084, 0.15813868, 0.17348855, 0.34173276, 0.83531111,\n",
       "       0.90242599, 0.79868714, 0.74998891, 0.73698696, 0.87279912,\n",
       "       0.90643024, 0.76338256, 0.25918299, 0.71294432, 0.32986594,\n",
       "       0.78333789, 0.85282022, 0.28181475, 0.90592199, 0.67556421,\n",
       "       0.7675757 , 0.88139205, 0.87517274, 0.59152273, 0.77520211,\n",
       "       0.86753254, 0.84658977, 0.85617188, 0.72431949, 0.17214134,\n",
       "       0.57567334, 0.85983516, 0.75164592, 0.66552383, 0.66784787,\n",
       "       0.1833372 , 0.95647667, 0.73417738, 0.88592454, 0.09422683,\n",
       "       0.5301923 , 0.82055157, 0.83659574, 0.871097  , 0.71330224,\n",
       "       0.71305243, 0.74175158, 0.65839979, 0.83587462, 0.78637513,\n",
       "       0.93388059, 0.56029654, 0.78250217, 0.80217327, 0.79753222,\n",
       "       0.63234523, 0.87868329, 0.86303432, 0.80062849, 0.49086993,\n",
       "       0.62680954, 0.88871467, 0.23818734, 0.80333567, 0.78668874,\n",
       "       0.83059717, 0.16012521, 0.57699266, 0.64452019, 0.85755516,\n",
       "       0.76655921, 0.89888753, 0.92316254, 0.22453621, 0.72595937,\n",
       "       0.7644414 , 0.944604  , 0.69347908, 0.22174518, 0.78652321,\n",
       "       0.76197117, 0.12051912, 0.29652798, 0.91069727, 0.84129151,\n",
       "       0.85826381, 0.82782879, 0.8660586 , 0.59251834, 0.73212108,\n",
       "       0.76404216, 0.1556173 , 0.75406962, 0.20396854, 0.75189037,\n",
       "       0.19134458, 0.76013549, 0.73325574, 0.74218234, 0.89260203,\n",
       "       0.93523844, 0.7058711 , 0.79533205, 0.87047821, 0.36916722,\n",
       "       0.89119304, 0.1815233 , 0.90935768, 0.79408812, 0.78520901,\n",
       "       0.33346797, 0.94483716, 0.90818978, 0.87174913, 0.69488674,\n",
       "       0.66547369, 0.68834661, 0.74266776, 0.78046148, 0.81856937,\n",
       "       0.64963876, 0.69269004, 0.86189911, 0.72895999, 0.78789573,\n",
       "       0.71596521, 0.92599532, 0.73571857, 0.78244098, 0.18732924])"
      ]
     },
     "execution_count": 23,
     "metadata": {},
     "output_type": "execute_result"
    }
   ],
   "source": [
    "y"
   ]
  },
  {
   "cell_type": "code",
   "execution_count": 24,
   "metadata": {},
   "outputs": [
    {
     "data": {
      "text/plain": [
       "Index(['Loan_ID', 'Gender', 'Married', 'Dependents', 'Education',\n",
       "       'Self_Employed', 'ApplicantIncome', 'CoapplicantIncome', 'LoanAmount',\n",
       "       'Loan_Amount_Term', 'Credit_History', 'Property_Area', 'Loan_Status'],\n",
       "      dtype='object')"
      ]
     },
     "execution_count": 24,
     "metadata": {},
     "output_type": "execute_result"
    }
   ],
   "source": [
    "df.columns"
   ]
  },
  {
   "cell_type": "code",
   "execution_count": null,
   "metadata": {},
   "outputs": [],
   "source": []
  },
  {
   "cell_type": "code",
   "execution_count": null,
   "metadata": {},
   "outputs": [],
   "source": []
  },
  {
   "cell_type": "code",
   "execution_count": null,
   "metadata": {},
   "outputs": [],
   "source": []
  },
  {
   "cell_type": "code",
   "execution_count": null,
   "metadata": {},
   "outputs": [],
   "source": []
  },
  {
   "cell_type": "code",
   "execution_count": null,
   "metadata": {},
   "outputs": [],
   "source": []
  },
  {
   "cell_type": "code",
   "execution_count": null,
   "metadata": {},
   "outputs": [],
   "source": []
  }
 ],
 "metadata": {
  "kernelspec": {
   "display_name": "Python 3",
   "language": "python",
   "name": "python3"
  },
  "language_info": {
   "codemirror_mode": {
    "name": "ipython",
    "version": 3
   },
   "file_extension": ".py",
   "mimetype": "text/x-python",
   "name": "python",
   "nbconvert_exporter": "python",
   "pygments_lexer": "ipython3",
   "version": "3.7.4"
  }
 },
 "nbformat": 4,
 "nbformat_minor": 2
}
